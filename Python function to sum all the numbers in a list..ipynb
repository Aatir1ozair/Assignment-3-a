{
 "cells": [
  {
   "cell_type": "code",
   "execution_count": 3,
   "id": "269721fd",
   "metadata": {},
   "outputs": [
    {
     "name": "stdout",
     "output_type": "stream",
     "text": [
      "Sum of all elements in given list:  20\n",
      "\n"
     ]
    }
   ],
   "source": [
    "#Python function to sum all the numbers in a list.\n",
    "\n",
    "def sum_of_list():\n",
    "    # creating a list\n",
    "    list1 = [8,2,3,0,7]\n",
    "    total = sum(list1)\n",
    "    print(\"Sum of all elements in given list: \", total)\n",
    "    return \"\"\n",
    "print(sum_of_list())"
   ]
  },
  {
   "cell_type": "code",
   "execution_count": null,
   "id": "910c4d13",
   "metadata": {},
   "outputs": [],
   "source": []
  }
 ],
 "metadata": {
  "kernelspec": {
   "display_name": "Python 3 (ipykernel)",
   "language": "python",
   "name": "python3"
  },
  "language_info": {
   "codemirror_mode": {
    "name": "ipython",
    "version": 3
   },
   "file_extension": ".py",
   "mimetype": "text/x-python",
   "name": "python",
   "nbconvert_exporter": "python",
   "pygments_lexer": "ipython3",
   "version": "3.9.12"
  }
 },
 "nbformat": 4,
 "nbformat_minor": 5
}
